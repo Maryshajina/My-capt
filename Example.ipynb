{
  "nbformat": 4,
  "nbformat_minor": 0,
  "metadata": {
    "colab": {
      "name": "Example.ipynb",
      "provenance": [],
      "authorship_tag": "ABX9TyPoJYvxjmv6GyK5Kgm3DoRz",
      "include_colab_link": true
    },
    "kernelspec": {
      "name": "python3",
      "display_name": "Python 3"
    }
  },
  "cells": [
    {
      "cell_type": "markdown",
      "metadata": {
        "id": "view-in-github",
        "colab_type": "text"
      },
      "source": [
        "<a href=\"https://colab.research.google.com/github/Maryshajina/My-capt/blob/master/Example.ipynb\" target=\"_parent\"><img src=\"https://colab.research.google.com/assets/colab-badge.svg\" alt=\"Open In Colab\"/></a>"
      ]
    },
    {
      "cell_type": "code",
      "metadata": {
        "id": "S8KtTdp66aOf",
        "colab_type": "code",
        "colab": {}
      },
      "source": [
        "print(\"hello world\")"
      ],
      "execution_count": 0,
      "outputs": []
    }
  ]
}